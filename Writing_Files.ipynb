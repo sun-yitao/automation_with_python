{
  "nbformat": 4,
  "nbformat_minor": 0,
  "metadata": {
    "kernelspec": {
      "name": "python3",
      "display_name": "Python 3"
    },
    "colab": {
      "name": "Writing_Files.ipynb",
      "provenance": [],
      "collapsed_sections": []
    },
    "language_info": {
      "name": "python"
    }
  },
  "cells": [
    {
      "cell_type": "code",
      "metadata": {
        "id": "93ZbQ6s5dx_R"
      },
      "source": [
        "!git clone https://github.com/sun-yitao/automation_with_python.git"
      ],
      "execution_count": null,
      "outputs": []
    },
    {
      "cell_type": "code",
      "metadata": {
        "id": "rQV6uwhQbwSA"
      },
      "source": [
        "from datetime import datetime\n",
        "from pathlib import Path"
      ],
      "execution_count": null,
      "outputs": []
    },
    {
      "cell_type": "code",
      "metadata": {
        "id": "FjkC7fPEbwSD"
      },
      "source": [
        "notes_directory = Path.cwd() / 'automation_with_python' / 'data' / 'text'"
      ],
      "execution_count": null,
      "outputs": []
    },
    {
      "cell_type": "code",
      "metadata": {
        "id": "zMvxWU0CbwSE"
      },
      "source": [
        "notes_directory"
      ],
      "execution_count": null,
      "outputs": []
    },
    {
      "cell_type": "markdown",
      "metadata": {
        "id": "dPmjyoNBbwSG"
      },
      "source": [
        "## Glob all txt files in notes_directory"
      ]
    },
    {
      "cell_type": "code",
      "metadata": {
        "id": "MXbGv9tobwSH"
      },
      "source": [
        "filepaths = notes_directory.glob('*.txt')"
      ],
      "execution_count": null,
      "outputs": []
    },
    {
      "cell_type": "code",
      "metadata": {
        "id": "7CGnCqBGbwSI"
      },
      "source": [
        "# note that this exhausts the generator\n",
        "list(filepaths)"
      ],
      "execution_count": null,
      "outputs": []
    },
    {
      "cell_type": "code",
      "metadata": {
        "id": "0P0GR3pebwSJ"
      },
      "source": [
        "today_date = datetime.today().strftime('%d/%m/%Y')"
      ],
      "execution_count": null,
      "outputs": []
    },
    {
      "cell_type": "code",
      "metadata": {
        "id": "GbNiFPzdbwSJ"
      },
      "source": [
        "today_date"
      ],
      "execution_count": null,
      "outputs": []
    },
    {
      "cell_type": "markdown",
      "metadata": {
        "id": "LgSeqi2gbwSK"
      },
      "source": [
        "## Insert date in first line for all txt files"
      ]
    },
    {
      "cell_type": "code",
      "metadata": {
        "id": "1u3MPj37bwSL"
      },
      "source": [
        "output_directory = Path.cwd() / 'output' / 'text'"
      ],
      "execution_count": null,
      "outputs": []
    },
    {
      "cell_type": "code",
      "metadata": {
        "id": "kaOashyjbwSM"
      },
      "source": [
        "output_directory.mkdir(parents=True)"
      ],
      "execution_count": null,
      "outputs": []
    },
    {
      "cell_type": "code",
      "metadata": {
        "id": "Z5P-0QEobwSN"
      },
      "source": [
        "for filepath in filepaths:\n",
        "    with open(filepath, 'r') as f:\n",
        "        text = f.read()\n",
        "        \n",
        "    with open(output_directory / filepath.name, 'w') as f:\n",
        "        f.write(f'{today_date}\\n' + text)"
      ],
      "execution_count": null,
      "outputs": []
    },
    {
      "cell_type": "markdown",
      "metadata": {
        "id": "uaoxHw3nbwSN"
      },
      "source": [
        "## Find overused words in your essay and get synonyms"
      ]
    },
    {
      "cell_type": "code",
      "metadata": {
        "id": "eOBRa3ntbwSO"
      },
      "source": [
        "import nltk # pip install nltk\n",
        "nltk.download('punkt')\n",
        "nltk.download('stopwords')\n",
        "from nltk.corpus import stopwords\n",
        "from nltk.tokenize import word_tokenize\n",
        "from collections import Counter"
      ],
      "execution_count": null,
      "outputs": []
    },
    {
      "cell_type": "code",
      "metadata": {
        "id": "YTPaIbyvbwSP"
      },
      "source": [
        "!pip install python-docx\n",
        "import docx"
      ],
      "execution_count": null,
      "outputs": []
    },
    {
      "cell_type": "code",
      "metadata": {
        "id": "t92jCFzPbwSP"
      },
      "source": [
        "def get_text_from_docx(filename):\n",
        "    doc = docx.Document(filename)\n",
        "    full_text = []\n",
        "    for paragraph in doc.paragraphs:\n",
        "        full_text.append(paragraph.text)\n",
        "    return '\\n'.join(full_text)"
      ],
      "execution_count": null,
      "outputs": []
    },
    {
      "cell_type": "code",
      "metadata": {
        "id": "tfvmef1zbwSQ"
      },
      "source": [
        "txt_path = notes_directory / 'asteroid.docx'\n",
        "txt_raw = get_text_from_docx(txt_path)"
      ],
      "execution_count": null,
      "outputs": []
    },
    {
      "cell_type": "code",
      "metadata": {
        "id": "epxuIrXoo3rQ"
      },
      "source": [
        "stop_words = set(stopwords.words('english'))\n",
        "counter = Counter()\n",
        "words = word_tokenize(txt_raw)"
      ],
      "execution_count": null,
      "outputs": []
    },
    {
      "cell_type": "code",
      "metadata": {
        "id": "m_wf1Dr6bwSQ"
      },
      "source": [
        "# remove punctuation and common words\n",
        "for word in words:\n",
        "    if word.isalpha() and word not in stop_words: \n",
        "        counter[word] += 1"
      ],
      "execution_count": null,
      "outputs": []
    },
    {
      "cell_type": "code",
      "source": [
        "print(counter)"
      ],
      "metadata": {
        "id": "d1Fii_D66of9"
      },
      "execution_count": null,
      "outputs": []
    },
    {
      "cell_type": "code",
      "metadata": {
        "scrolled": true,
        "id": "xMFfxf9hbwSR"
      },
      "source": [
        "word_counts = [(count, word) for word, count in counter.items()]\n",
        "word_counts.sort(reverse=True)\n",
        "print(word_counts)"
      ],
      "execution_count": null,
      "outputs": []
    },
    {
      "cell_type": "code",
      "source": [
        "nltk.download('omw-1.4')\n",
        "nltk.download('wordnet')\n",
        "from nltk.corpus import wordnet"
      ],
      "metadata": {
        "id": "JG9wqgIX8hLB"
      },
      "execution_count": null,
      "outputs": []
    },
    {
      "cell_type": "code",
      "source": [
        "for count, word in word_counts[:10]:\n",
        "    synonyms = set()\n",
        "    for synset in wordnet.synsets(word):\n",
        "        for name in synset.lemma_names():\n",
        "            synonyms.add(name)\n",
        "    synonyms.discard(word)\n",
        "    print(f'\"{word}\" used {count} times, synonyms: {synonyms if synonyms else \"none\"}')"
      ],
      "metadata": {
        "id": "XvHB4nKa8ynx"
      },
      "execution_count": null,
      "outputs": []
    },
    {
      "cell_type": "markdown",
      "metadata": {
        "id": "XDd3YkWZbwSR"
      },
      "source": [
        "## Automatically Sorting Your Downloads Folder"
      ]
    },
    {
      "cell_type": "code",
      "metadata": {
        "id": "DiHP4HFIbwSR"
      },
      "source": [
        "folder_to_sort = Path('/path/to/Downloads')\n",
        "filetype_to_folder_mapping = {\n",
        "    '.png': 'images',\n",
        "    '.jpg': 'images',\n",
        "    '.jpeg': 'images',\n",
        "    '.gif': 'images',\n",
        "    '.pdf': 'pdfs',\n",
        "    '.mp4': 'videos',\n",
        "    '.mp3': 'audio',\n",
        "    '.zip': 'bundles',\n",
        "}"
      ],
      "execution_count": null,
      "outputs": []
    },
    {
      "cell_type": "code",
      "metadata": {
        "id": "2MiwYAd5bwSR"
      },
      "source": [
        "for filepath in folder_to_sort.glob('*'):\n",
        "    file_extension = filepath.suffix\n",
        "    if file_extension in filetype_to_folder_mapping:\n",
        "        destination = folder_to_sort / filetype_to_folder_mapping[file_extension]\n",
        "        if not destination.exists():\n",
        "            destination.mkdir()\n",
        "        filepath.rename(destination / filepath.name)"
      ],
      "execution_count": null,
      "outputs": []
    },
    {
      "cell_type": "code",
      "metadata": {
        "id": "_L0OwoAPbwSS"
      },
      "source": [],
      "execution_count": null,
      "outputs": []
    }
  ]
}