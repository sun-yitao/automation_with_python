{
  "nbformat": 4,
  "nbformat_minor": 0,
  "metadata": {
    "kernelspec": {
      "display_name": "Python 3",
      "language": "python",
      "name": "python3"
    },
    "language_info": {
      "codemirror_mode": {
        "name": "ipython",
        "version": 3
      },
      "file_extension": ".py",
      "mimetype": "text/x-python",
      "name": "python",
      "nbconvert_exporter": "python",
      "pygments_lexer": "ipython3",
      "version": "3.7.4"
    },
    "colab": {
      "name": "Image_Manipulation.ipynb",
      "provenance": [],
      "collapsed_sections": []
    }
  },
  "cells": [
    {
      "cell_type": "code",
      "metadata": {
        "id": "woMGX21ooLhb"
      },
      "source": [
        "!git clone https://github.com/sun-yitao/automation_with_python.git"
      ],
      "execution_count": null,
      "outputs": []
    },
    {
      "cell_type": "code",
      "metadata": {
        "id": "4fqlEhsbnwyI"
      },
      "source": [
        "from pathlib import Path\n",
        "from PIL import Image"
      ],
      "execution_count": null,
      "outputs": []
    },
    {
      "cell_type": "code",
      "metadata": {
        "id": "P6qKuTnLnwyL"
      },
      "source": [
        "cat_image_path = Path.cwd() / 'automation_with_python' / 'data' / 'images' / 'cat.jpg'"
      ],
      "execution_count": null,
      "outputs": []
    },
    {
      "cell_type": "markdown",
      "metadata": {
        "id": "limnk5KXnwyM"
      },
      "source": [
        "## Open image using PIL"
      ]
    },
    {
      "cell_type": "code",
      "metadata": {
        "id": "pl_MZ4LJnwyN"
      },
      "source": [
        "cat_image = Image.open(cat_image_path)"
      ],
      "execution_count": null,
      "outputs": []
    },
    {
      "cell_type": "code",
      "metadata": {
        "id": "_pkToEb2nwyO"
      },
      "source": [
        "cat_image"
      ],
      "execution_count": null,
      "outputs": []
    },
    {
      "cell_type": "code",
      "metadata": {
        "id": "SlGSYeDHnwyP"
      },
      "source": [
        "cat_image.size # (width, height)"
      ],
      "execution_count": null,
      "outputs": []
    },
    {
      "cell_type": "markdown",
      "metadata": {
        "id": "jnQK9YvPnwyQ"
      },
      "source": [
        "## Image Transformations"
      ]
    },
    {
      "cell_type": "code",
      "metadata": {
        "id": "a2MyAxJwnwyQ"
      },
      "source": [
        "cat_image_rotated = cat_image.rotate(-10)"
      ],
      "execution_count": null,
      "outputs": []
    },
    {
      "cell_type": "code",
      "metadata": {
        "id": "Upcs-_3DnwyR"
      },
      "source": [
        "cat_image_rotated"
      ],
      "execution_count": null,
      "outputs": []
    },
    {
      "cell_type": "code",
      "metadata": {
        "id": "9SQPKpDdnwyS"
      },
      "source": [
        "cat_image_cropped = cat_image_rotated.crop((80, 40, 525, 485)) #(left, top, right, bottom)"
      ],
      "execution_count": null,
      "outputs": []
    },
    {
      "cell_type": "code",
      "metadata": {
        "id": "96NGH4UGnwyS"
      },
      "source": [
        "cat_image_cropped"
      ],
      "execution_count": null,
      "outputs": []
    },
    {
      "cell_type": "code",
      "metadata": {
        "id": "qYhdZ1zFnwyT"
      },
      "source": [
        "output_directory = Path.cwd() / 'output' / 'images'\n",
        "output_directory.mkdir(parents=True) # make any new parent folders if required"
      ],
      "execution_count": null,
      "outputs": []
    },
    {
      "cell_type": "code",
      "metadata": {
        "id": "iq3bQY3unwyU"
      },
      "source": [
        "cat_image_cropped.save(output_directory / 'cat_cropped.jpg')"
      ],
      "execution_count": null,
      "outputs": []
    },
    {
      "cell_type": "markdown",
      "metadata": {
        "id": "20YrkOzsnwyU"
      },
      "source": [
        "## Bulk Resizing Images\n",
        "Resizing all images to be less than a certain size, for example to save space"
      ]
    },
    {
      "cell_type": "code",
      "metadata": {
        "id": "uiaVqw0znwyV"
      },
      "source": [
        "image_directory = Path.cwd() / 'automation_with_python' / 'data' / 'images' / 'car'"
      ],
      "execution_count": null,
      "outputs": []
    },
    {
      "cell_type": "code",
      "metadata": {
        "id": "jY6WmWu0nwyV"
      },
      "source": [
        "resize_dimension = 200\n",
        "for image_path in image_directory.glob('*.jpg'):\n",
        "    image = Image.open(image_path)\n",
        "    if max(image.size) > resize_dimension:\n",
        "        ratio = 200 / max(image.size) # divide by largest image dimension, multiply 200\n",
        "        width, height = image.size\n",
        "        new_width, new_height = int(width * ratio), int(height * ratio)\n",
        "        image = image.resize((new_width, new_height))\n",
        "        image.save(output_directory / image_path.name)"
      ],
      "execution_count": null,
      "outputs": []
    },
    {
      "cell_type": "code",
      "metadata": {
        "id": "hMHqnx2anwyV"
      },
      "source": [],
      "execution_count": null,
      "outputs": []
    }
  ]
}